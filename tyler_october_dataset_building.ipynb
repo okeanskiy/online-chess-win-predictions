{
  "cells": [
    {
      "cell_type": "code",
      "execution_count": null,
      "metadata": {
        "id": "TLNqJuSintp2"
      },
      "outputs": [],
      "source": [
        "# goals\n",
        "# is winrate dependent on time spent in last game?\n",
        "# is winrate dependent on accuracy?\n",
        "# is winrate dependent on accuracy of game before, if this game is a reque?\n",
        "# is winrate dependent on # of reques?\n",
        "\n",
        "# how to find time spent in a game?\n",
        "# how do you determine if a game is a reque?\n",
        "\n",
        "import archives_manager\n",
        "import pandas as pd\n",
        "\n",
        "pd.set_option('display.max_rows', None)\n",
        "pd.set_option('display.width', 10000)"
      ]
    },
    {
      "cell_type": "code",
      "execution_count": null,
      "metadata": {
        "id": "SX2ywSZpntp3",
        "outputId": "153fc7d5-6f94-4fd8-8ebd-5b0a1538147b"
      },
      "outputs": [
        {
          "data": {
            "text/plain": [
              "{'url': 'https://www.chess.com/game/live/89923795267',\n",
              " 'end_time': 1696185098,\n",
              " 'date': '2023.10.01',\n",
              " 'rated': True,\n",
              " 'time_class': 'rapid',\n",
              " 'white': {'username': 'Quarini', 'rating': 1064, 'result': 'resigned'},\n",
              " 'black': {'username': 'BIG_TONKA_T', 'rating': 1089, 'result': 'win'}}"
            ]
          },
          "execution_count": 2,
          "metadata": {},
          "output_type": "execute_result"
        }
      ],
      "source": [
        "start_unix = 1696132800\n",
        "end_unix = 1698724800\n",
        "player_name = \"BIG_TONKA_T\"\n",
        "\n",
        "games_archive = archives_manager.get_games_between_timestamps(\n",
        "    player_name=player_name,\n",
        "    start_unix=start_unix,\n",
        "    end_unix=end_unix,\n",
        "    time_class='rapid',\n",
        "    filter_func=archives_manager.build_archive_filter(rated=True)\n",
        ")\n",
        "\n",
        "archives_manager.simplified_archived_game(games_archive[0])"
      ]
    },
    {
      "cell_type": "code",
      "execution_count": null,
      "metadata": {
        "id": "0ZEl7R1Pntp4",
        "outputId": "eccd4aa0-aa9f-40d9-934f-dfdef5804d56"
      },
      "outputs": [
        {
          "data": {
            "text/plain": [
              "{'url': 'https://www.chess.com/game/live/92035707081',\n",
              " 'end_time': 1698296732,\n",
              " 'date': '2023.10.26',\n",
              " 'rated': True,\n",
              " 'time_class': 'rapid',\n",
              " 'white': {'username': 'Primodiurno', 'rating': 1456, 'result': 'resigned'},\n",
              " 'black': {'username': 'BIG_TONKA_T', 'rating': 1494, 'result': 'win'}}"
            ]
          },
          "execution_count": 3,
          "metadata": {},
          "output_type": "execute_result"
        }
      ],
      "source": [
        "archives_manager.simplified_archived_game(games_archive[-1])"
      ]
    },
    {
      "cell_type": "code",
      "execution_count": null,
      "metadata": {
        "id": "0vW2eeWzntp4"
      },
      "outputs": [],
      "source": [
        "games_data = []\n",
        "\n",
        "unix_range = end_unix - start_unix\n",
        "\n",
        "for game in games_archive:\n",
        "    opp_games_archive = None\n",
        "    opp_name = archives_manager.get_opponent_name(game, player_name)\n",
        "\n",
        "    # log progress\n",
        "    print(opp_name, round((game['end_time'] - start_unix) / (unix_range), 2))\n",
        "\n",
        "    try:\n",
        "        opp_games_archive = archives_manager.get_games_between_timestamps(\n",
        "            player_name=opp_name,\n",
        "            start_unix=game['end_time'] - 30 * 24 * 60 * 60,\n",
        "            end_unix=game['end_time'],\n",
        "            time_class='rapid',\n",
        "            filter_func=archives_manager.build_archive_filter(rated=True)\n",
        "        )\n",
        "    except archives_manager.ArchiveRetrievalError as e:\n",
        "        print(f'{opp_name} archive failed')\n",
        "\n",
        "    if opp_games_archive is None:\n",
        "        continue\n",
        "\n",
        "    games_data.append({\n",
        "        'game': game,\n",
        "        'opp_name': opp_name,\n",
        "        'opp_games_archive': opp_games_archive\n",
        "    })"
      ]
    },
    {
      "cell_type": "code",
      "execution_count": null,
      "metadata": {
        "id": "SNzyomkCntp4"
      },
      "outputs": [],
      "source": [
        "tyler_rows = []\n",
        "opp_data = []\n",
        "\n",
        "for data in games_data:\n",
        "    game = data['game']\n",
        "    opp_name = data['opp_name']\n",
        "    opp_games_archive = data['opp_games_archive']\n",
        "\n",
        "    # analyze the opponent's history (for opp_data)\n",
        "    opp_game_rows = []\n",
        "    for opp_game in opp_games_archive:\n",
        "        # get elo of the 'Player' from the perspective of player_name=opp_name, to get that historical elo rating\n",
        "        opp_game_elo = archives_manager.get_elo(opp_game, player_name=opp_name)\n",
        "\n",
        "        opp_game_rows.append({\n",
        "            'unix': opp_game['end_time'],\n",
        "            'elo': opp_game_elo['Player'], # 'Player' elo from the perspective of player_name=opp_name\n",
        "            'elo_diff': opp_game_elo['Player'] - opp_game_elo['Opponent'], # Difference between opponent's rating, and opponent's oppenent rating\n",
        "            # time of day as 'cos_24h' and 'sin_24h'\n",
        "            # player pieces left\n",
        "            # opp pieces left\n",
        "            # move count\n",
        "            # accuracy\n",
        "            # acc_diff\n",
        "            # average eval change per move, per game state\n",
        "            # opening classification\n",
        "            # average time spent per move, per game state\n",
        "            'color': archives_manager.get_color(opp_game, opp_name),\n",
        "            'won': archives_manager.get_won(opp_game, opp_name)\n",
        "        })\n",
        "    opp_data.append(opp_game_rows)\n",
        "\n",
        "    # analyze this game (for tyler_rows)\n",
        "    elo = archives_manager.get_elo(game, player_name)\n",
        "    acc = archives_manager.get_accuracy(game, player_name)\n",
        "    color = archives_manager.get_color(game, player_name)\n",
        "\n",
        "    tyler_rows.append({\n",
        "        # basic info\n",
        "        'url': game['url'],\n",
        "        'unix': game['end_time'],\n",
        "        'player_elo': elo['Player'],\n",
        "        'opp_elo': elo['Opponent'],\n",
        "        'opp_name': opp_name,\n",
        "\n",
        "        # predictors\n",
        "        'opp_30d': len(opp_games_archive),\n",
        "        'elo_diff': elo['Player'] - elo['Opponent'],\n",
        "        'color': color,\n",
        "        # time of day as 'cos_24h', 'sin_24h' https://chat.openai.com/share/fb073052-f000-4160-bace-fdee65678589\n",
        "\n",
        "        # game review\n",
        "        'player_acc': None if acc is None else acc['Player'],\n",
        "        'opp_acc': None if acc is None else acc['Opponent'],\n",
        "        'acc_diff': None if acc is None else acc['Player'] - acc['Opponent'],\n",
        "        # player pieces left\n",
        "        # opp pieces left\n",
        "        # move count\n",
        "        # average eval change per move, per game state\n",
        "        # average time spent per move, per game state\n",
        "        # opening classification https://www.nature.com/articles/s41598-023-31658-w.pdf\n",
        "\n",
        "        # targets\n",
        "        'won': archives_manager.get_won(game, player_name)\n",
        "    })"
      ]
    },
    {
      "cell_type": "code",
      "execution_count": null,
      "metadata": {
        "id": "wnQxatsmntp4",
        "outputId": "2d373b93-d4d2-4146-cdfc-17347185c950"
      },
      "outputs": [
        {
          "name": "stdout",
          "output_type": "stream",
          "text": [
            "{'url': 'https://www.chess.com/game/live/89923795267', 'unix': 1696185098, 'player_elo': 1089, 'opp_elo': 1064, 'opp_name': 'Quarini', 'opp_30d': 249, 'elo_diff': 25, 'color': False, 'player_acc': 69.43, 'opp_acc': 62.25, 'acc_diff': 7.180000000000007, 'won': 1}\n",
            "{'unix': 1696185098, 'elo': 1063, 'elo_diff': -27, 'color': True, 'won': 0}\n"
          ]
        }
      ],
      "source": [
        "# for each opponent history data, fix the elo since we know the true value based on the associated game in the player history\n",
        "\n",
        "# this output highlights the issue\n",
        "print(tyler_rows[0]) # tyler's least recent game (beginning of player data)\n",
        "print(opp_data[0][-1]) # for that game, the opponent's most recent game in history is the same game but with guessed elo"
      ]
    },
    {
      "cell_type": "code",
      "execution_count": null,
      "metadata": {
        "id": "uEpcDjaNntp4",
        "outputId": "a5ca874e-9a2a-497e-eb1f-e65dbc282f76"
      },
      "outputs": [
        {
          "name": "stdout",
          "output_type": "stream",
          "text": [
            "{'url': 'https://www.chess.com/game/live/89923795267', 'unix': 1696185098, 'player_elo': 1089, 'opp_elo': 1064, 'opp_name': 'Quarini', 'opp_30d': 249, 'elo_diff': 25, 'color': False, 'player_acc': 69.43, 'opp_acc': 62.25, 'acc_diff': 7.180000000000007, 'won': 1}\n",
            "{'unix': 1696185098, 'elo': 1064, 'elo_diff': -27, 'color': True, 'won': 0}\n"
          ]
        }
      ],
      "source": [
        "for i in range(len(tyler_rows)):\n",
        "    opp_elo = tyler_rows[i]['opp_elo']\n",
        "    opp_data[i][-1]['elo'] = opp_elo\n",
        "\n",
        "print(tyler_rows[0]) # tyler's least recent game (beginning of player data)\n",
        "print(opp_data[0][-1]) # for that game, the opponent's most recent game in history is the same game but with guessed elo"
      ]
    },
    {
      "cell_type": "code",
      "execution_count": null,
      "metadata": {
        "id": "pOfpH3d-ntp5"
      },
      "outputs": [],
      "source": [
        "# turn tyler_rows into tyler_df and make even more predictors\n",
        "\n",
        "# ma5, ma20, x-ma5, x-ma20, d_x-ma5, d_x-ma20\n",
        "# is_reque\n",
        "# num_reque\n",
        "# prev_avg_eval_change _open _mid _end\n",
        "# prev_time_spent _open _mid _end\n",
        "# prev_acc\n",
        "# prev_acc_diff\n",
        "# prev_ player opp _pieces_left\n",
        "\n",
        "\n",
        "# finding reques\n",
        "# https://chat.openai.com/share/dc34a56e-11a7-4e53-844a-b98258651090\n",
        "# is_reque = [num_reque != 0]\n",
        "\n"
      ]
    },
    {
      "cell_type": "code",
      "source": [
        "# for each opp_rows in opp_data, turn opp_rows into opp_df and make simliar predictors\n",
        "\n",
        "# ma5, ma20, x-ma5, x-ma20, d_x-ma5, d_x-ma20\n",
        "# is_reque\n",
        "# num_reque\n",
        "# prev_avg_eval_change _open _mid _\n",
        "# prev_time_spent _open _mid _end\n",
        "# prev_acc\n",
        "# prev_acc_diff\n",
        "# prev_ player opp _pieces_left"
      ],
      "metadata": {
        "id": "Lusp7bsCphdC"
      },
      "execution_count": null,
      "outputs": []
    },
    {
      "cell_type": "code",
      "source": [
        "# ideas for classifying/clustering players/games/opponents\n",
        "\n",
        "# # # cluster board states\n",
        "# 1. extract features of the board\n",
        "# white/black _pieces, white/black _passed_pawns, open/semi-open-white/semi-open-black/closed _files, developed_pieces, material_advantage, engine_eval\n",
        "# some features for pinned material\n",
        "# features for important spots for material, 'knights in the center' 'rooks on the 7th'\n",
        "# features for pieces defending other pieces\n",
        "# features for board control of certain areas (mid, left flank, right flank, top, bottom) that belong to each color, by placement and by areas to move\n",
        "# 2. do PCA on the feature space of boards across many games for a given player\n",
        "# look at the most interesting/variable features by the scores in the first few principal componenets\n",
        "#\n",
        "\n",
        "# do PCA on the features of board state"
      ],
      "metadata": {
        "id": "kUCmso4zgUmj"
      },
      "execution_count": null,
      "outputs": []
    },
    {
      "cell_type": "code",
      "source": [],
      "metadata": {
        "id": "oYTDSBu1uj6C"
      },
      "execution_count": null,
      "outputs": []
    }
  ],
  "metadata": {
    "kernelspec": {
      "display_name": "Python 3",
      "language": "python",
      "name": "python3"
    },
    "language_info": {
      "codemirror_mode": {
        "name": "ipython",
        "version": 3
      },
      "file_extension": ".py",
      "mimetype": "text/x-python",
      "name": "python",
      "nbconvert_exporter": "python",
      "pygments_lexer": "ipython3",
      "version": "3.10.7"
    },
    "colab": {
      "provenance": []
    }
  },
  "nbformat": 4,
  "nbformat_minor": 0
}