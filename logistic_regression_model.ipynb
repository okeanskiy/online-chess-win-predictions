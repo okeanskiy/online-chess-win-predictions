{
 "cells": [
  {
   "cell_type": "markdown",
   "id": "5a5d9ac4-d5c6-4f39-ab29-792f5c712793",
   "metadata": {},
   "source": [
    "### Modules"
   ]
  },
  {
   "cell_type": "code",
   "execution_count": 1,
   "id": "24eac3b8-dada-432a-8458-678c29290e07",
   "metadata": {},
   "outputs": [],
   "source": [
    "import archives_manager"
   ]
  },
  {
   "cell_type": "code",
   "execution_count": 2,
   "id": "6e12aa00-7328-47b3-a9c5-fc487d4e486e",
   "metadata": {},
   "outputs": [],
   "source": [
    "import pandas as pd\n",
    "import numpy as np\n",
    "import matplotlib.pyplot as plt\n",
    "from sklearn.linear_model import LogisticRegression\n",
    "from sklearn.model_selection import train_test_split\n",
    "from sklearn.metrics import classification_report, accuracy_score\n",
    "\n",
    "pd.set_option('display.max_rows', None)\n",
    "pd.set_option('display.width', 10000)"
   ]
  },
  {
   "cell_type": "markdown",
   "id": "3f01313a-694f-40b1-bd9e-c697de0d3b9d",
   "metadata": {},
   "source": [
    "### Functions"
   ]
  },
  {
   "cell_type": "code",
   "execution_count": 3,
   "id": "ddc5ee21-3df9-441d-a11b-2bf0837d07da",
   "metadata": {},
   "outputs": [],
   "source": [
    "def get_player_analysis(player_name, num_games):\n",
    "    recent_archive = archives_manager.get_most_recent_games(player_name, num_games, time_class='rapid', filter_func=archives_manager.build_archive_filter(rated=True, exclude_draws=True, max_elo_diff=150))\n",
    "\n",
    "    lst = []\n",
    "\n",
    "    for archived_game in recent_archive:\n",
    "        actual = archives_manager.get_won(archived_game, player_name)\n",
    "        elo = archives_manager.get_elo(archived_game, player_name)\n",
    "\n",
    "        lst.append({\n",
    "            'player_name': player_name,\n",
    "            'unix': archived_game['end_time'],\n",
    "            'player_elo': elo['Player'],\n",
    "            'opp_elo': elo['Opponent'],\n",
    "            'elo_diff': elo['Player'] - elo['Opponent'],\n",
    "            'won': actual,\n",
    "            \n",
    "        })\n",
    "\n",
    "    df = pd.DataFrame(lst)\n",
    "    df['ma20'] = df['player_elo'].rolling(window=20).mean()\n",
    "    df['ma5'] = df['player_elo'].rolling(window=5).mean()\n",
    "    df['x-ma20'] = df['player_elo'] - df['ma20']\n",
    "    df['x-ma5'] = df['player_elo'] - df['ma5']\n",
    "    df['ma5-ma20'] = df['ma5'] - df['ma20']\n",
    "\n",
    "    return df, recent_archive"
   ]
  },
  {
   "cell_type": "markdown",
   "id": "241fe19d-9f9d-4901-81c6-18ddec187a2e",
   "metadata": {},
   "source": [
    "### Data Gathering/Compiling"
   ]
  },
  {
   "cell_type": "code",
   "execution_count": 4,
   "id": "38cedf71-e075-4b92-9a6c-71b3785a6f69",
   "metadata": {},
   "outputs": [],
   "source": [
    "num_games_per_player = 1000\n",
    "\n",
    "analyses = []\n",
    "stats_list = []\n",
    "\n",
    "players = [\n",
    "    'BIG_TONKA_T',\n",
    "    'UnderTheBeer',\n",
    "    'Dandres0_0',\n",
    "    'Ale9800',\n",
    "    'MrOGH'\n",
    "]\n",
    "\n",
    "for player_name in players:\n",
    "    df, recent_archive = get_player_analysis(player_name, num_games=num_games_per_player)\n",
    "    \n",
    "    player_info = {\n",
    "        'Name': player_name,\n",
    "        'Current Rating': archives_manager.get_elo(recent_archive[0], player_name)['Player'],\n",
    "    }\n",
    "    \n",
    "    analyses.append({\n",
    "        'player_name': player_name,\n",
    "        'stats': player_info,\n",
    "        'data': df,\n",
    "        'archive': recent_archive\n",
    "    })\n",
    "    \n",
    "data_list = [analysis['data'] for analysis in analyses]\n",
    "df = pd.concat(data_list)\n",
    "    \n",
    "df = df.dropna().reset_index()"
   ]
  },
  {
   "cell_type": "code",
   "execution_count": 5,
   "id": "a0ee3a35-4d3c-4a26-b9b7-211e60e92b4a",
   "metadata": {
    "collapsed": true,
    "jupyter": {
     "outputs_hidden": true
    },
    "tags": []
   },
   "outputs": [
    {
     "data": {
      "text/html": [
       "<div>\n",
       "<style scoped>\n",
       "    .dataframe tbody tr th:only-of-type {\n",
       "        vertical-align: middle;\n",
       "    }\n",
       "\n",
       "    .dataframe tbody tr th {\n",
       "        vertical-align: top;\n",
       "    }\n",
       "\n",
       "    .dataframe thead th {\n",
       "        text-align: right;\n",
       "    }\n",
       "</style>\n",
       "<table border=\"1\" class=\"dataframe\">\n",
       "  <thead>\n",
       "    <tr style=\"text-align: right;\">\n",
       "      <th></th>\n",
       "      <th>index</th>\n",
       "      <th>player_name</th>\n",
       "      <th>unix</th>\n",
       "      <th>player_elo</th>\n",
       "      <th>opp_elo</th>\n",
       "      <th>elo_diff</th>\n",
       "      <th>won</th>\n",
       "      <th>ma20</th>\n",
       "      <th>ma5</th>\n",
       "      <th>x-ma20</th>\n",
       "      <th>x-ma5</th>\n",
       "      <th>ma5-ma20</th>\n",
       "    </tr>\n",
       "  </thead>\n",
       "  <tbody>\n",
       "    <tr>\n",
       "      <th>0</th>\n",
       "      <td>19</td>\n",
       "      <td>BIG_TONKA_T</td>\n",
       "      <td>1697192205</td>\n",
       "      <td>1264</td>\n",
       "      <td>1258</td>\n",
       "      <td>6</td>\n",
       "      <td>0</td>\n",
       "      <td>1330.40</td>\n",
       "      <td>1280.0</td>\n",
       "      <td>-66.40</td>\n",
       "      <td>-16.0</td>\n",
       "      <td>-50.40</td>\n",
       "    </tr>\n",
       "    <tr>\n",
       "      <th>1</th>\n",
       "      <td>20</td>\n",
       "      <td>BIG_TONKA_T</td>\n",
       "      <td>1697192679</td>\n",
       "      <td>1256</td>\n",
       "      <td>1234</td>\n",
       "      <td>22</td>\n",
       "      <td>0</td>\n",
       "      <td>1325.40</td>\n",
       "      <td>1272.2</td>\n",
       "      <td>-69.40</td>\n",
       "      <td>-16.2</td>\n",
       "      <td>-53.20</td>\n",
       "    </tr>\n",
       "    <tr>\n",
       "      <th>2</th>\n",
       "      <td>21</td>\n",
       "      <td>BIG_TONKA_T</td>\n",
       "      <td>1697192866</td>\n",
       "      <td>1247</td>\n",
       "      <td>1257</td>\n",
       "      <td>-10</td>\n",
       "      <td>0</td>\n",
       "      <td>1319.60</td>\n",
       "      <td>1263.8</td>\n",
       "      <td>-72.60</td>\n",
       "      <td>-16.8</td>\n",
       "      <td>-55.80</td>\n",
       "    </tr>\n",
       "    <tr>\n",
       "      <th>3</th>\n",
       "      <td>22</td>\n",
       "      <td>BIG_TONKA_T</td>\n",
       "      <td>1697193148</td>\n",
       "      <td>1239</td>\n",
       "      <td>1254</td>\n",
       "      <td>-15</td>\n",
       "      <td>0</td>\n",
       "      <td>1313.05</td>\n",
       "      <td>1255.6</td>\n",
       "      <td>-74.05</td>\n",
       "      <td>-16.6</td>\n",
       "      <td>-57.45</td>\n",
       "    </tr>\n",
       "    <tr>\n",
       "      <th>4</th>\n",
       "      <td>23</td>\n",
       "      <td>BIG_TONKA_T</td>\n",
       "      <td>1697193242</td>\n",
       "      <td>1231</td>\n",
       "      <td>1237</td>\n",
       "      <td>-6</td>\n",
       "      <td>0</td>\n",
       "      <td>1305.75</td>\n",
       "      <td>1247.4</td>\n",
       "      <td>-74.75</td>\n",
       "      <td>-16.4</td>\n",
       "      <td>-58.35</td>\n",
       "    </tr>\n",
       "  </tbody>\n",
       "</table>\n",
       "</div>"
      ],
      "text/plain": [
       "   index  player_name        unix  player_elo  opp_elo  elo_diff  won     ma20     ma5  x-ma20  x-ma5  ma5-ma20\n",
       "0     19  BIG_TONKA_T  1697192205        1264     1258         6    0  1330.40  1280.0  -66.40  -16.0    -50.40\n",
       "1     20  BIG_TONKA_T  1697192679        1256     1234        22    0  1325.40  1272.2  -69.40  -16.2    -53.20\n",
       "2     21  BIG_TONKA_T  1697192866        1247     1257       -10    0  1319.60  1263.8  -72.60  -16.8    -55.80\n",
       "3     22  BIG_TONKA_T  1697193148        1239     1254       -15    0  1313.05  1255.6  -74.05  -16.6    -57.45\n",
       "4     23  BIG_TONKA_T  1697193242        1231     1237        -6    0  1305.75  1247.4  -74.75  -16.4    -58.35"
      ]
     },
     "execution_count": 5,
     "metadata": {},
     "output_type": "execute_result"
    }
   ],
   "source": [
    "df.head(5)"
   ]
  },
  {
   "cell_type": "markdown",
   "id": "f616e87e-5470-4b65-bb64-ec89d606dc9a",
   "metadata": {},
   "source": [
    "### Logistic Regression"
   ]
  },
  {
   "cell_type": "code",
   "execution_count": 6,
   "id": "e6e59fa0-80ad-422f-9bda-3bbd184446e8",
   "metadata": {},
   "outputs": [
    {
     "name": "stdout",
     "output_type": "stream",
     "text": [
      "0.5384615384615384\n",
      "              precision    recall  f1-score   support\n",
      "\n",
      "           0       0.57      0.23      0.32       444\n",
      "           1       0.53      0.83      0.65       466\n",
      "\n",
      "    accuracy                           0.54       910\n",
      "   macro avg       0.55      0.53      0.49       910\n",
      "weighted avg       0.55      0.54      0.49       910\n",
      "\n"
     ]
    }
   ],
   "source": [
    "X = df[['elo_diff']]  # Predictor\n",
    "y = df['won']         # Target variable\n",
    "\n",
    "# Split the data into training and testing sets\n",
    "X_train, X_test, y_train, y_test = train_test_split(X, y, test_size=0.2, random_state=42)\n",
    "\n",
    "# Create and train the logistic regression model\n",
    "model = LogisticRegression()\n",
    "model.fit(X_train, y_train)\n",
    "\n",
    "# Evaluate the model\n",
    "predictions = model.predict(X_test)\n",
    "\n",
    "print(accuracy_score(y_test, predictions))\n",
    "print(classification_report(y_test, predictions))"
   ]
  },
  {
   "cell_type": "code",
   "execution_count": 7,
   "id": "f3fe847c-d4c1-4339-b8c9-60fc220d8b95",
   "metadata": {},
   "outputs": [
    {
     "name": "stdout",
     "output_type": "stream",
     "text": [
      "0.5175824175824176\n",
      "              precision    recall  f1-score   support\n",
      "\n",
      "           0       0.51      0.36      0.42       444\n",
      "           1       0.52      0.67      0.59       466\n",
      "\n",
      "    accuracy                           0.52       910\n",
      "   macro avg       0.52      0.51      0.50       910\n",
      "weighted avg       0.52      0.52      0.51       910\n",
      "\n"
     ]
    }
   ],
   "source": [
    "X = df[['elo_diff', 'x-ma20']]  # Predictors\n",
    "\n",
    "X_train, X_test, y_train, y_test = train_test_split(X, y, test_size=0.2, random_state=42)\n",
    "\n",
    "model = LogisticRegression()\n",
    "model.fit(X_train, y_train)\n",
    "\n",
    "predictions = model.predict(X_test)\n",
    "\n",
    "print(accuracy_score(y_test, predictions))\n",
    "print(classification_report(y_test, predictions))"
   ]
  },
  {
   "cell_type": "code",
   "execution_count": 8,
   "id": "82f428ab-cc6c-4296-96fa-69be9d55958d",
   "metadata": {},
   "outputs": [
    {
     "name": "stdout",
     "output_type": "stream",
     "text": [
      "0.5186813186813187\n",
      "              precision    recall  f1-score   support\n",
      "\n",
      "           0       0.51      0.40      0.45       444\n",
      "           1       0.53      0.63      0.57       466\n",
      "\n",
      "    accuracy                           0.52       910\n",
      "   macro avg       0.52      0.52      0.51       910\n",
      "weighted avg       0.52      0.52      0.51       910\n",
      "\n"
     ]
    }
   ],
   "source": [
    "X = df[['elo_diff', 'x-ma5']]  # Predictors\n",
    "\n",
    "X_train, X_test, y_train, y_test = train_test_split(X, y, test_size=0.2, random_state=42)\n",
    "\n",
    "model = LogisticRegression()\n",
    "model.fit(X_train, y_train)\n",
    "\n",
    "predictions = model.predict(X_test)\n",
    "\n",
    "print(accuracy_score(y_test, predictions))\n",
    "print(classification_report(y_test, predictions))"
   ]
  },
  {
   "cell_type": "code",
   "execution_count": 9,
   "id": "d383e62a-c9b7-4723-8f59-0f3758570f49",
   "metadata": {},
   "outputs": [
    {
     "name": "stdout",
     "output_type": "stream",
     "text": [
      "0.5131868131868131\n",
      "              precision    recall  f1-score   support\n",
      "\n",
      "           0       0.50      0.29      0.36       444\n",
      "           1       0.52      0.73      0.61       466\n",
      "\n",
      "    accuracy                           0.51       910\n",
      "   macro avg       0.51      0.51      0.48       910\n",
      "weighted avg       0.51      0.51      0.49       910\n",
      "\n"
     ]
    }
   ],
   "source": [
    "df['interaction'] = df['x-ma20'] * df['x-ma5']\n",
    "X = df[['elo_diff', 'x-ma20', 'interaction']]  # Predictors\n",
    "\n",
    "X_train, X_test, y_train, y_test = train_test_split(X, y, test_size=0.2, random_state=42)\n",
    "\n",
    "model = LogisticRegression()\n",
    "model.fit(X_train, y_train)\n",
    "\n",
    "predictions = model.predict(X_test)\n",
    "\n",
    "print(accuracy_score(y_test, predictions))\n",
    "print(classification_report(y_test, predictions))"
   ]
  }
 ],
 "metadata": {
  "kernelspec": {
   "display_name": "Python 3 (ipykernel)",
   "language": "python",
   "name": "python3"
  },
  "language_info": {
   "codemirror_mode": {
    "name": "ipython",
    "version": 3
   },
   "file_extension": ".py",
   "mimetype": "text/x-python",
   "name": "python",
   "nbconvert_exporter": "python",
   "pygments_lexer": "ipython3",
   "version": "3.10.7"
  }
 },
 "nbformat": 4,
 "nbformat_minor": 5
}
